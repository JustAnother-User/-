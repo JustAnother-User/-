{
 "cells": [
  {
   "cell_type": "code",
   "execution_count": 24,
   "metadata": {},
   "outputs": [
    {
     "name": "stdout",
     "output_type": "stream",
     "text": [
      "(-0.2146018366025517, 2.719821465515665e-15)\n"
     ]
    }
   ],
   "source": [
    "import numpy as np\n",
    "from scipy import integrate\n",
    "\n",
    "def f(x):\n",
    "    return ((2*x-1)*np.cos(2*x))\n",
    "\n",
    "J= integrate.quad(f,0,np.pi/4)\n",
    "print(J)"
   ]
  },
  {
   "cell_type": "code",
   "execution_count": 18,
   "metadata": {},
   "outputs": [
    {
     "name": "stdout",
     "output_type": "stream",
     "text": [
      "5.002036926344258e-07\n",
      "0.21460233680624433\n"
     ]
    }
   ],
   "source": [
    "def func(f,a,b,n):\n",
    "    h=(b-a/n)\n",
    "    S=0\n",
    "    \n",
    "    for i in range (n):\n",
    "        S=S+f(a+i*h+h/2)\n",
    "    return h*S\n",
    "\n",
    "k=5\n",
    "J_func=func(f,0,np.pi/4,10**k)\n",
    "print(J_func)\n",
    "delta=abs(J[0]-J_func)\n",
    "print(delta)"
   ]
  },
  {
   "cell_type": "code",
   "execution_count": 19,
   "metadata": {},
   "outputs": [
    {
     "name": "stdout",
     "output_type": "stream",
     "text": [
      "2.0\n"
     ]
    }
   ],
   "source": [
    "def fpr(x):\n",
    "    return (2*np.cos(2*x)-4*x*np.sin(2*x)+2*np.sin(2*x))\n",
    "\n",
    "a=0\n",
    "b=np.pi/4\n",
    "\n",
    "D=fpr(a)\n",
    "print(D)"
   ]
  },
  {
   "cell_type": "code",
   "execution_count": 20,
   "metadata": {},
   "outputs": [
    {
     "name": "stdout",
     "output_type": "stream",
     "text": [
      "2.0\n",
      "0.0\n"
     ]
    }
   ],
   "source": [
    "def func2(f,a,b,n):\n",
    "    h=(b-a)*n\n",
    "    \n",
    "    fi=(f(a+h)-f(a))/h\n",
    "    return fi\n",
    "\n",
    "kpr=5\n",
    "dif_func2=func2(f,0,np.pi/4,10**kpr)\n",
    "print(dif_func2)\n",
    "delta_pr=abs(D-dif_func2)\n",
    "print(delta_pr)"
   ]
  },
  {
   "cell_type": "code",
   "execution_count": 21,
   "metadata": {},
   "outputs": [
    {
     "name": "stdout",
     "output_type": "stream",
     "text": [
      "-0.21460145875222045\n",
      "3.7785033124571044e-07\n"
     ]
    }
   ],
   "source": [
    "def func3(f,a,b,n):\n",
    "    h=(b-a)/n\n",
    "    S2=0\n",
    "    S4=0\n",
    "    \n",
    "    for i in range(n):\n",
    "        S4=S4+f(a+i*h+h/2)\n",
    "        S2=S2+f(a+(i+1)*h)\n",
    "    \n",
    "    return h*(f(a)+f(b)+4*S4+2*S2)/6\n",
    "\n",
    "k=1\n",
    "S_func=func3(f,0,np.pi/4,10**k)\n",
    "print(S_func)\n",
    "delta_S=abs(J[0]-S_func)\n",
    "print(delta_S)"
   ]
  },
  {
   "cell_type": "code",
   "execution_count": 23,
   "metadata": {},
   "outputs": [
    {
     "name": "stdout",
     "output_type": "stream",
     "text": [
      "40 \n",
      " 0.019634954084936207 \n",
      " -7.757019539571197e-13 \n",
      "\n",
      "0.21460183660177598\n"
     ]
    }
   ],
   "source": [
    "def func4(J_func,p,a,b,n,eps):\n",
    "    J_func_2h=func(f,a,b,n)\n",
    "    J_func_h=func(f,a,b,2*n)\n",
    "    while abs(J_func_h-J_func_2h)/(2**p-1)>eps:\n",
    "        J_func_2h=J_func_h\n",
    "        n=n*2\n",
    "        J_func_h=func(f,a,b,2*n)\n",
    "    return [2*n,(b-a)/(2*n),J_func_h]\n",
    "\n",
    "J_precise=func4(S_func,4,0,np.pi/4,10,0.0001)\n",
    "print(J_precise[0],\"\\n\",J_precise[1],\"\\n\",J_precise[2],\"\\n\")\n",
    "delta_final=abs(J[0]-J_precise[2])\n",
    "print(delta_final)"
   ]
  },
  {
   "cell_type": "code",
   "execution_count": null,
   "metadata": {},
   "outputs": [],
   "source": []
  }
 ],
 "metadata": {
  "kernelspec": {
   "display_name": "Python 3",
   "language": "python",
   "name": "python3"
  },
  "language_info": {
   "codemirror_mode": {
    "name": "ipython",
    "version": 3
   },
   "file_extension": ".py",
   "mimetype": "text/x-python",
   "name": "python",
   "nbconvert_exporter": "python",
   "pygments_lexer": "ipython3",
   "version": "3.8.5"
  }
 },
 "nbformat": 4,
 "nbformat_minor": 4
}
